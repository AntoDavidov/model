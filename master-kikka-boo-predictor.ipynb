{
 "cells": [
  {
   "cell_type": "markdown",
   "metadata": {},
   "source": [
    "blah blah"
   ]
  },
  {
   "cell_type": "code",
   "execution_count": 817,
   "id": "e088c274",
   "metadata": {},
   "outputs": [
    {
     "name": "stdout",
     "output_type": "stream",
     "text": [
      "scikit-learn version: 1.6.1\n",
      "pandas version: 2.2.3\n",
      "seaborn version: 0.13.2\n"
     ]
    }
   ],
   "source": [
    "import sklearn\n",
    "import pandas as pd\n",
    "import seaborn as sns\n",
    "import matplotlib.pyplot as plt\n",
    "\n",
    "\n",
    "print(\"scikit-learn version:\", sklearn.__version__)     # 1.6.1\n",
    "print(\"pandas version:\", pd.__version__)            # 2.2.3\n",
    "print(\"seaborn version:\", sns.__version__)          # 0.13.2"
   ]
  },
  {
   "cell_type": "markdown",
   "id": "696a349f",
   "metadata": {},
   "source": [
    "<h1 style=\"font-size:300%\">Iteration 2 - Work</h1>\n",
    "\n",
    "During Iteration 1, we made significant improvements across all areas of the project—from Exploratory Data Analysis (EDA) to Model Engineering. By correcting our dataset and properly analyzing trends and spikes, we uncovered the true potential of our AI model.\n",
    "\n",
    "The main objective for this iteration is to build upon the progress made previously and take the next step toward delivering a reliable, product-level demand forecasting model.\n",
    "\n",
    "To achieve this, we will follow a structured approach—starting from Data Provisioning and moving through each critical step, just as we did in the earlier iterations, to ensure accuracy and consistency in our results."
   ]
  },
  {
   "cell_type": "markdown",
   "id": "be84ee80",
   "metadata": {},
   "source": [
    "# 📦 Data Provisioning\n",
    "\n",
    "Once again, we will begin by loading our previous sales dataset, which proved effective in the last iteration. To enhance our model and reach our current goals, we will introduce an additional dataset containing the stock levels of all products.\n",
    "\n",
    "By combining these two datasets, we aim to generate more accurate and actionable demand forecasts."
   ]
  },
  {
   "cell_type": "code",
   "execution_count": 818,
   "id": "fb7b85d9",
   "metadata": {},
   "outputs": [
    {
     "data": {
      "text/html": [
       "<div>\n",
       "<style scoped>\n",
       "    .dataframe tbody tr th:only-of-type {\n",
       "        vertical-align: middle;\n",
       "    }\n",
       "\n",
       "    .dataframe tbody tr th {\n",
       "        vertical-align: top;\n",
       "    }\n",
       "\n",
       "    .dataframe thead th {\n",
       "        text-align: right;\n",
       "    }\n",
       "</style>\n",
       "<table border=\"1\" class=\"dataframe\">\n",
       "  <thead>\n",
       "    <tr style=\"text-align: right;\">\n",
       "      <th></th>\n",
       "      <th>Customer</th>\n",
       "      <th>Product Description</th>\n",
       "      <th>Document Date</th>\n",
       "      <th>Document Type</th>\n",
       "      <th>Document No</th>\n",
       "      <th>Product Group</th>\n",
       "      <th>Product</th>\n",
       "      <th>Quantity</th>\n",
       "      <th>Quantity Unit</th>\n",
       "      <th>Quantity Base</th>\n",
       "      <th>Unit Price</th>\n",
       "      <th>Line Amount</th>\n",
       "      <th>Document Currency</th>\n",
       "      <th>Line Amount In Base Currency</th>\n",
       "      <th>Sales Order</th>\n",
       "      <th>Sales Person</th>\n",
       "      <th>Customer Sales Person</th>\n",
       "      <th>Sales Person Group Name</th>\n",
       "    </tr>\n",
       "  </thead>\n",
       "  <tbody>\n",
       "    <tr>\n",
       "      <th>8030</th>\n",
       "      <td>HIPOLEND AD</td>\n",
       "      <td>Pushchair Eden Grey</td>\n",
       "      <td>1.12.2023</td>\n",
       "      <td>Invoice</td>\n",
       "      <td>3710062761</td>\n",
       "      <td>100103: Bebeshki letni kolichki</td>\n",
       "      <td>31001030155</td>\n",
       "      <td>1</td>\n",
       "      <td>pcs</td>\n",
       "      <td>1</td>\n",
       "      <td>145,71</td>\n",
       "      <td>145,71</td>\n",
       "      <td>BGN</td>\n",
       "      <td>145,71</td>\n",
       "      <td>041:1710137389 - Porachka ot klient</td>\n",
       "      <td>SABIHA KOTALAK</td>\n",
       "      <td>SABIHA KOTALAK</td>\n",
       "      <td>Пловдив</td>\n",
       "    </tr>\n",
       "    <tr>\n",
       "      <th>22066</th>\n",
       "      <td>WOHO B.V.</td>\n",
       "      <td>Stroller 3in1 transf. seat Kaia Beige</td>\n",
       "      <td>8.2.2024</td>\n",
       "      <td>Invoice</td>\n",
       "      <td>3710064775</td>\n",
       "      <td>100101: Kombinirani bebeshki kolichki 3 v 1</td>\n",
       "      <td>31001010198</td>\n",
       "      <td>3</td>\n",
       "      <td>pcs</td>\n",
       "      <td>3</td>\n",
       "      <td>158,97333</td>\n",
       "      <td>476,92</td>\n",
       "      <td>EUR</td>\n",
       "      <td>932,77</td>\n",
       "      <td>042:1710142002 - Porachka ot klient bez DDS</td>\n",
       "      <td>ELENA GYULEVA</td>\n",
       "      <td>ELENA GYULEVA</td>\n",
       "      <td>Външен пазар</td>\n",
       "    </tr>\n",
       "    <tr>\n",
       "      <th>17619</th>\n",
       "      <td>RAYaLEND OOD</td>\n",
       "      <td>Pushchair Miley Dark Grey 2023</td>\n",
       "      <td>4.4.2023</td>\n",
       "      <td>Invoice</td>\n",
       "      <td>3710053983</td>\n",
       "      <td>100103: Bebeshki letni kolichki</td>\n",
       "      <td>31001030146</td>\n",
       "      <td>1</td>\n",
       "      <td>pcs</td>\n",
       "      <td>1</td>\n",
       "      <td>120,94737</td>\n",
       "      <td>114,9</td>\n",
       "      <td>BGN</td>\n",
       "      <td>114,9</td>\n",
       "      <td>041:1710115512 - Porachka ot klient</td>\n",
       "      <td>SABIHA KOTALAK</td>\n",
       "      <td>SABIHA KOTALAK</td>\n",
       "      <td>Пловдив</td>\n",
       "    </tr>\n",
       "    <tr>\n",
       "      <th>3040</th>\n",
       "      <td>BONAFIGLIA FABRIZIO</td>\n",
       "      <td>Pushchair Juno Beige 2020</td>\n",
       "      <td>2.2.2023</td>\n",
       "      <td>Invoice</td>\n",
       "      <td>3710052108</td>\n",
       "      <td>100103: Bebeshki letni kolichki</td>\n",
       "      <td>31001030107</td>\n",
       "      <td>1</td>\n",
       "      <td>pcs</td>\n",
       "      <td>1</td>\n",
       "      <td>89,36</td>\n",
       "      <td>89,36</td>\n",
       "      <td>EUR</td>\n",
       "      <td>174,77</td>\n",
       "      <td>042:1710110780 - Porachka ot klient bez DDS</td>\n",
       "      <td>FRANCESCO SAVERIO</td>\n",
       "      <td>FRANCESCO SAVERIO</td>\n",
       "      <td>Външен пазар</td>\n",
       "    </tr>\n",
       "    <tr>\n",
       "      <th>15828</th>\n",
       "      <td>OZONE ENTERTAINMENT JSC</td>\n",
       "      <td>Stroller 3in1 Angele Chrome Grey</td>\n",
       "      <td>30.10.2023</td>\n",
       "      <td>Invoice</td>\n",
       "      <td>3710061497</td>\n",
       "      <td>100101: Kombinirani bebeshki kolichki 3 v 1</td>\n",
       "      <td>31001010188</td>\n",
       "      <td>1</td>\n",
       "      <td>pcs</td>\n",
       "      <td>1</td>\n",
       "      <td>588,75</td>\n",
       "      <td>588,75</td>\n",
       "      <td>BGN</td>\n",
       "      <td>588,75</td>\n",
       "      <td>041:1710135102 - Porachka ot klient</td>\n",
       "      <td>SABIHA KOTALAK</td>\n",
       "      <td>SABIHA KOTALAK</td>\n",
       "      <td>Пловдив</td>\n",
       "    </tr>\n",
       "  </tbody>\n",
       "</table>\n",
       "</div>"
      ],
      "text/plain": [
       "                      Customer                    Product Description  \\\n",
       "8030               HIPOLEND AD                    Pushchair Eden Grey   \n",
       "22066                WOHO B.V.  Stroller 3in1 transf. seat Kaia Beige   \n",
       "17619             RAYaLEND OOD         Pushchair Miley Dark Grey 2023   \n",
       "3040       BONAFIGLIA FABRIZIO              Pushchair Juno Beige 2020   \n",
       "15828  OZONE ENTERTAINMENT JSC       Stroller 3in1 Angele Chrome Grey   \n",
       "\n",
       "      Document Date Document Type  Document No  \\\n",
       "8030      1.12.2023       Invoice   3710062761   \n",
       "22066      8.2.2024       Invoice   3710064775   \n",
       "17619      4.4.2023       Invoice   3710053983   \n",
       "3040       2.2.2023       Invoice   3710052108   \n",
       "15828    30.10.2023       Invoice   3710061497   \n",
       "\n",
       "                                     Product Group      Product  Quantity  \\\n",
       "8030               100103: Bebeshki letni kolichki  31001030155         1   \n",
       "22066  100101: Kombinirani bebeshki kolichki 3 v 1  31001010198         3   \n",
       "17619              100103: Bebeshki letni kolichki  31001030146         1   \n",
       "3040               100103: Bebeshki letni kolichki  31001030107         1   \n",
       "15828  100101: Kombinirani bebeshki kolichki 3 v 1  31001010188         1   \n",
       "\n",
       "      Quantity Unit  Quantity Base Unit Price Line Amount Document Currency  \\\n",
       "8030            pcs              1     145,71      145,71               BGN   \n",
       "22066           pcs              3  158,97333      476,92               EUR   \n",
       "17619           pcs              1  120,94737       114,9               BGN   \n",
       "3040            pcs              1      89,36       89,36               EUR   \n",
       "15828           pcs              1     588,75      588,75               BGN   \n",
       "\n",
       "      Line Amount In Base Currency  \\\n",
       "8030                        145,71   \n",
       "22066                       932,77   \n",
       "17619                        114,9   \n",
       "3040                        174,77   \n",
       "15828                       588,75   \n",
       "\n",
       "                                       Sales Order       Sales Person  \\\n",
       "8030           041:1710137389 - Porachka ot klient     SABIHA KOTALAK   \n",
       "22066  042:1710142002 - Porachka ot klient bez DDS      ELENA GYULEVA   \n",
       "17619          041:1710115512 - Porachka ot klient     SABIHA KOTALAK   \n",
       "3040   042:1710110780 - Porachka ot klient bez DDS  FRANCESCO SAVERIO   \n",
       "15828          041:1710135102 - Porachka ot klient     SABIHA KOTALAK   \n",
       "\n",
       "      Customer Sales Person Sales Person Group Name  \n",
       "8030         SABIHA KOTALAK                 Пловдив  \n",
       "22066         ELENA GYULEVA            Външен пазар  \n",
       "17619        SABIHA KOTALAK                 Пловдив  \n",
       "3040      FRANCESCO SAVERIO            Външен пазар  \n",
       "15828        SABIHA KOTALAK                 Пловдив  "
      ]
     },
     "execution_count": 818,
     "metadata": {},
     "output_type": "execute_result"
    }
   ],
   "source": [
    "sales_data = pd.read_csv(\"sales_strollers_01012023_01012025_new.csv\", encoding=\"utf-8\", delimiter=\";\")\n",
    "sales_data.sample(5)"
   ]
  },
  {
   "cell_type": "markdown",
   "id": "bea07cd4",
   "metadata": {},
   "source": [
    "Now it is of most importance that we actually understand what is going on with the dataset. A step that we missed in the previous iteration so in this one, before we get to actual modelling we are going to first pay huge attention to every single column of the dataset."
   ]
  },
  {
   "cell_type": "code",
   "execution_count": 819,
   "id": "244f1b5e",
   "metadata": {},
   "outputs": [
    {
     "name": "stdout",
     "output_type": "stream",
     "text": [
      "['Customer', 'Product Description', 'Document Date', 'Document Type', 'Document No', 'Product Group', 'Product', 'Quantity', 'Quantity Unit', 'Quantity Base', 'Unit Price', 'Line Amount', 'Document Currency', 'Line Amount In Base Currency', 'Sales Order', 'Sales Person', 'Customer Sales Person', 'Sales Person Group Name']\n"
     ]
    }
   ],
   "source": [
    "print(sales_data.columns.to_list())"
   ]
  },
  {
   "cell_type": "markdown",
   "id": "12aebacb",
   "metadata": {},
   "source": [
    "First off the immediate columns to drop are  *`Customer`*(for this iteration we do not need it, but we might use to for later iterations for market segmentation) *`Quantity Unit`*(because it is always pcs), *`Sales Order`*(internal order reference, which may be good for joining other systems, but at the moment we do not need it), *`Sales Person`*(other than analyzing salesperson performance for forecasting it is unnecessary), *`Customer Sales Person`*, *`Sales Person Group Name`*(which at the moment may not be supportive unless we forecast by region also), and maybe *`Document No`*. because it does not correlate to any of the products somehow and it would not be useful to keep it and misguide the model.\n",
    "\n",
    "Also if **`\"Quantity Unit\"`** has only `\"pcs\"` as value we should also consider dropping it.\n",
    "\n",
    "Finally another column we should pay attention is the `Document Type`, which we are going to analyze later on."
   ]
  },
  {
   "cell_type": "code",
   "execution_count": 820,
   "id": "01af5480",
   "metadata": {},
   "outputs": [
    {
     "data": {
      "text/plain": [
       "array(['pcs'], dtype=object)"
      ]
     },
     "execution_count": 820,
     "metadata": {},
     "output_type": "execute_result"
    }
   ],
   "source": [
    "sales_data[\"Quantity Unit\"].unique()"
   ]
  },
  {
   "cell_type": "markdown",
   "id": "88b2b648",
   "metadata": {},
   "source": [
    "As we can see `\"pcs\"` is the only value in that column and because it won't help us in any way we will include in the columns that we are going to drop."
   ]
  },
  {
   "cell_type": "code",
   "execution_count": 821,
   "id": "7faa536d",
   "metadata": {},
   "outputs": [],
   "source": [
    "sales_data.drop(columns=[\n",
    "    'Customer',\n",
    "    'Quantity Unit',\n",
    "    'Sales Order',\n",
    "    'Document No',\n",
    "    'Sales Person',\n",
    "    'Customer Sales Person',\n",
    "    'Sales Person Group Name'\n",
    "], inplace=True)"
   ]
  },
  {
   "cell_type": "markdown",
   "id": "da42471e",
   "metadata": {},
   "source": [
    "Now that we have dropped all the immediately noticeable unusefull columns, let's have a closer look into the `Document Type` column."
   ]
  },
  {
   "cell_type": "code",
   "execution_count": 822,
   "id": "8e252f54",
   "metadata": {},
   "outputs": [
    {
     "data": {
      "text/plain": [
       "array(['Invoice', 'Credit Note', 'Stokovo-parichen otchet',\n",
       "       'Stokovo-parichen otchet za ES', 'Debit Note',\n",
       "       'Stokovo-parichen otchet Onlayn magazin BG'], dtype=object)"
      ]
     },
     "execution_count": 822,
     "metadata": {},
     "output_type": "execute_result"
    }
   ],
   "source": [
    "sales_data['Document Type'].unique()"
   ]
  },
  {
   "cell_type": "markdown",
   "id": "94609024",
   "metadata": {},
   "source": [
    "Because I am going to drop the other rows other than the \"Invoice\" one and I do not want to translate the rows inside the dataset, I am going to translate every unique value and I am going to explain why we do not need them. Please note that all of the values were explained by the stakeholder and all of our actions are according to his assumptions.\n",
    "\n",
    "1. *`Credit Note`* - A return or refund issued to a customer. Currently for this iteration it may be not smart to include customer returns, BUT if we have time for a more advanced model later, we can definetely explore incorporation.\n",
    "2. *`\"Stokovo-parichen otchet\"`* or *`Stock-money report`* - this is a stock-money report our stakeholder makes and alone said we do not need it for the model.\n",
    "3. *`Stokovo-parichen otchet za ES`* or *`Stock-money report for EU`* - same as above, but from all european sales\n",
    "4. *`Stokovo-parichen otchet Onlayn magazin BG`* or *`Stock-money report for Online Webshop`* - same as above, but only from online shop\n",
    "\n",
    "But before we drop them let's analyze the total rows we have in store and after we drop other rows (others different than `Invoices`) we will see if it indeed appropriate to drop them or not. "
   ]
  },
  {
   "cell_type": "code",
   "execution_count": 823,
   "id": "ecd53b38",
   "metadata": {},
   "outputs": [
    {
     "name": "stdout",
     "output_type": "stream",
     "text": [
      "<class 'pandas.core.frame.DataFrame'>\n",
      "RangeIndex: 22251 entries, 0 to 22250\n",
      "Data columns (total 11 columns):\n",
      " #   Column                        Non-Null Count  Dtype \n",
      "---  ------                        --------------  ----- \n",
      " 0   Product Description           22251 non-null  object\n",
      " 1   Document Date                 22251 non-null  object\n",
      " 2   Document Type                 22251 non-null  object\n",
      " 3   Product Group                 22251 non-null  object\n",
      " 4   Product                       22251 non-null  int64 \n",
      " 5   Quantity                      22251 non-null  int64 \n",
      " 6   Quantity Base                 22251 non-null  int64 \n",
      " 7   Unit Price                    22251 non-null  object\n",
      " 8   Line Amount                   22251 non-null  object\n",
      " 9   Document Currency             22251 non-null  object\n",
      " 10  Line Amount In Base Currency  22251 non-null  object\n",
      "dtypes: int64(3), object(8)\n",
      "memory usage: 1.9+ MB\n"
     ]
    }
   ],
   "source": [
    "sales_data.info()"
   ]
  },
  {
   "cell_type": "code",
   "execution_count": 824,
   "id": "9423155a",
   "metadata": {},
   "outputs": [],
   "source": [
    "sales_data = sales_data[sales_data['Document Type'] == 'Invoice'].reset_index(drop=True)"
   ]
  },
  {
   "cell_type": "code",
   "execution_count": 825,
   "id": "db799a2b",
   "metadata": {},
   "outputs": [
    {
     "name": "stdout",
     "output_type": "stream",
     "text": [
      "<class 'pandas.core.frame.DataFrame'>\n",
      "RangeIndex: 20602 entries, 0 to 20601\n",
      "Data columns (total 11 columns):\n",
      " #   Column                        Non-Null Count  Dtype \n",
      "---  ------                        --------------  ----- \n",
      " 0   Product Description           20602 non-null  object\n",
      " 1   Document Date                 20602 non-null  object\n",
      " 2   Document Type                 20602 non-null  object\n",
      " 3   Product Group                 20602 non-null  object\n",
      " 4   Product                       20602 non-null  int64 \n",
      " 5   Quantity                      20602 non-null  int64 \n",
      " 6   Quantity Base                 20602 non-null  int64 \n",
      " 7   Unit Price                    20602 non-null  object\n",
      " 8   Line Amount                   20602 non-null  object\n",
      " 9   Document Currency             20602 non-null  object\n",
      " 10  Line Amount In Base Currency  20602 non-null  object\n",
      "dtypes: int64(3), object(8)\n",
      "memory usage: 1.7+ MB\n"
     ]
    }
   ],
   "source": [
    "sales_data.info()"
   ]
  },
  {
   "cell_type": "markdown",
   "id": "ac467afd",
   "metadata": {},
   "source": [
    "As we can see, removing all rows that are not labeled as \"Invoices\" reduced the dataset by exactly 1,649 entries, which represents approximately 7% of the total data. This indicates that have no problem continuing our work with this particular dataset. And now that we are left with only the invoices, we should not bother keeping this column and we can also drop it, as it does not bring any correlation as well."
   ]
  },
  {
   "cell_type": "code",
   "execution_count": 826,
   "id": "22ff6283",
   "metadata": {},
   "outputs": [],
   "source": [
    "sales_data.drop(columns=[\n",
    "    'Document Type',\n",
    "], inplace=True)"
   ]
  },
  {
   "cell_type": "markdown",
   "id": "ac46dc2b",
   "metadata": {},
   "source": [
    "Now next columns to be analyzed and to see how they differ are the `Unit Price`, `Line Amount`, `Line Amount In Base Currency` and `Currency`. \n",
    "1. The unit price is the price per unit of the actual product. If the quantity is 1, then the unit price will be equal to the line amount or almost equivalent, because some invoices have discounts recorder (according to our stakeholder).\n",
    "2. Line amount is the total revenue of the invoice that the sales employee registers (Unit Price x Quantity) in the currency mentioned in the next column.\n",
    "3. Line Amount In Base Currency is the monetary value of the sale expressed in Kika's default currency — BGN in our case (Bulgarian Lev).\n",
    "\n",
    "Note that even when Quantity = 1, we should rely on the Line Amount In Base Currency, because it is in BGN and its the currency that the company operates in.\n",
    "\n",
    "The Unit Price becomes less reliable for modeling revenue or demand — it's more of a reference, not a guaranteed source of truth.\n"
   ]
  },
  {
   "cell_type": "code",
   "execution_count": 827,
   "id": "cf3c06f0",
   "metadata": {},
   "outputs": [
    {
     "data": {
      "text/plain": [
       "array(['BGN', 'EUR', 'USD'], dtype=object)"
      ]
     },
     "execution_count": 827,
     "metadata": {},
     "output_type": "execute_result"
    }
   ],
   "source": [
    "sales_data['Document Currency'].unique()  "
   ]
  },
  {
   "cell_type": "markdown",
   "id": "76458b70",
   "metadata": {},
   "source": [
    "Now we can see that there are invoices with different currencies, but as we mentioned earlier `Line Amount In Base Currency` comes to our help and we do not need to manually calculate the revenue in one currency, which is done in that column. So for all the reasons above we are going to remove the `Unit Price`, `Line Amount` and `Currency`, so that we are left with only one column regarding the revenue and that way we are not causing any confusions. Also from the initial table at the start we can see that the values are"
   ]
  },
  {
   "cell_type": "code",
   "execution_count": 828,
   "id": "38d3ad03",
   "metadata": {},
   "outputs": [
    {
     "data": {
      "text/html": [
       "<div>\n",
       "<style scoped>\n",
       "    .dataframe tbody tr th:only-of-type {\n",
       "        vertical-align: middle;\n",
       "    }\n",
       "\n",
       "    .dataframe tbody tr th {\n",
       "        vertical-align: top;\n",
       "    }\n",
       "\n",
       "    .dataframe thead th {\n",
       "        text-align: right;\n",
       "    }\n",
       "</style>\n",
       "<table border=\"1\" class=\"dataframe\">\n",
       "  <thead>\n",
       "    <tr style=\"text-align: right;\">\n",
       "      <th></th>\n",
       "      <th>Product Description</th>\n",
       "      <th>Document Date</th>\n",
       "      <th>Product Group</th>\n",
       "      <th>Product</th>\n",
       "      <th>Quantity</th>\n",
       "      <th>Quantity Base</th>\n",
       "      <th>Revenue in BGN</th>\n",
       "    </tr>\n",
       "  </thead>\n",
       "  <tbody>\n",
       "    <tr>\n",
       "      <th>0</th>\n",
       "      <td>Autofolding pushchair Joy Dark Grey</td>\n",
       "      <td>29.10.2024</td>\n",
       "      <td>100103: Bebeshki letni kolichki</td>\n",
       "      <td>31001030204</td>\n",
       "      <td>1</td>\n",
       "      <td>1</td>\n",
       "      <td>152,33</td>\n",
       "    </tr>\n",
       "    <tr>\n",
       "      <th>1</th>\n",
       "      <td>Pushchair Miley Dark Grey 2023</td>\n",
       "      <td>18.6.2024</td>\n",
       "      <td>100103: Bebeshki letni kolichki</td>\n",
       "      <td>31001030146</td>\n",
       "      <td>10</td>\n",
       "      <td>10</td>\n",
       "      <td>1088,55</td>\n",
       "    </tr>\n",
       "    <tr>\n",
       "      <th>2</th>\n",
       "      <td>Pushchair Miley Dark Grey 2023</td>\n",
       "      <td>26.3.2024</td>\n",
       "      <td>100103: Bebeshki letni kolichki</td>\n",
       "      <td>31001030146</td>\n",
       "      <td>3</td>\n",
       "      <td>3</td>\n",
       "      <td>326,57</td>\n",
       "    </tr>\n",
       "    <tr>\n",
       "      <th>3</th>\n",
       "      <td>Pushchair Miley Dark Grey 2023</td>\n",
       "      <td>18.6.2024</td>\n",
       "      <td>100103: Bebeshki letni kolichki</td>\n",
       "      <td>31001030146</td>\n",
       "      <td>4</td>\n",
       "      <td>4</td>\n",
       "      <td>435,42</td>\n",
       "    </tr>\n",
       "    <tr>\n",
       "      <th>4</th>\n",
       "      <td>Pushchair Miley Dark Grey 2023</td>\n",
       "      <td>23.4.2024</td>\n",
       "      <td>100103: Bebeshki letni kolichki</td>\n",
       "      <td>31001030146</td>\n",
       "      <td>10</td>\n",
       "      <td>10</td>\n",
       "      <td>1088,55</td>\n",
       "    </tr>\n",
       "  </tbody>\n",
       "</table>\n",
       "</div>"
      ],
      "text/plain": [
       "                   Product Description Document Date  \\\n",
       "0  Autofolding pushchair Joy Dark Grey    29.10.2024   \n",
       "1       Pushchair Miley Dark Grey 2023     18.6.2024   \n",
       "2       Pushchair Miley Dark Grey 2023     26.3.2024   \n",
       "3       Pushchair Miley Dark Grey 2023     18.6.2024   \n",
       "4       Pushchair Miley Dark Grey 2023     23.4.2024   \n",
       "\n",
       "                     Product Group      Product  Quantity  Quantity Base  \\\n",
       "0  100103: Bebeshki letni kolichki  31001030204         1              1   \n",
       "1  100103: Bebeshki letni kolichki  31001030146        10             10   \n",
       "2  100103: Bebeshki letni kolichki  31001030146         3              3   \n",
       "3  100103: Bebeshki letni kolichki  31001030146         4              4   \n",
       "4  100103: Bebeshki letni kolichki  31001030146        10             10   \n",
       "\n",
       "  Revenue in BGN  \n",
       "0         152,33  \n",
       "1        1088,55  \n",
       "2         326,57  \n",
       "3         435,42  \n",
       "4        1088,55  "
      ]
     },
     "execution_count": 828,
     "metadata": {},
     "output_type": "execute_result"
    }
   ],
   "source": [
    "sales_data.drop(columns=['Unit Price', 'Line Amount', 'Document Currency'], inplace=True)\n",
    "sales_data.rename(columns={'Line Amount In Base Currency': 'Revenue in BGN'}, inplace=True)\n",
    "sales_data.head(5)"
   ]
  },
  {
   "cell_type": "markdown",
   "id": "97ff4908",
   "metadata": {},
   "source": [
    "Now that we are coming close to our desired and well-cleaned dataset two more columns should be immediately studied and those are the `Quantity` and `Quantity Base`. From the first 5 rows it seems that there are the same, but let's actually check. "
   ]
  },
  {
   "cell_type": "code",
   "execution_count": 829,
   "id": "38a9b5ed",
   "metadata": {},
   "outputs": [
    {
     "name": "stdout",
     "output_type": "stream",
     "text": [
      "Rows where Quantity and Quantity Base differ: 0\n"
     ]
    }
   ],
   "source": [
    "difference = (sales_data['Quantity'] != sales_data['Quantity Base']).sum()\n",
    "print(f\"Rows where Quantity and Quantity Base differ: {difference}\")\n"
   ]
  },
  {
   "cell_type": "markdown",
   "id": "53febbc1",
   "metadata": {},
   "source": [
    "The above result means we can safely drop one of them, and by convention, it’s cleaner to keep the standardized one — usually `Quantity Base`."
   ]
  },
  {
   "cell_type": "code",
   "execution_count": 830,
   "id": "8cfc2bc6",
   "metadata": {},
   "outputs": [],
   "source": [
    "sales_data.drop(columns=[\n",
    "    'Quantity',\n",
    "], inplace=True)"
   ]
  },
  {
   "cell_type": "code",
   "execution_count": 831,
   "id": "fa3f7fe9",
   "metadata": {},
   "outputs": [
    {
     "data": {
      "text/html": [
       "<div>\n",
       "<style scoped>\n",
       "    .dataframe tbody tr th:only-of-type {\n",
       "        vertical-align: middle;\n",
       "    }\n",
       "\n",
       "    .dataframe tbody tr th {\n",
       "        vertical-align: top;\n",
       "    }\n",
       "\n",
       "    .dataframe thead th {\n",
       "        text-align: right;\n",
       "    }\n",
       "</style>\n",
       "<table border=\"1\" class=\"dataframe\">\n",
       "  <thead>\n",
       "    <tr style=\"text-align: right;\">\n",
       "      <th></th>\n",
       "      <th>Product Description</th>\n",
       "      <th>Document Date</th>\n",
       "      <th>Product Group</th>\n",
       "      <th>Product</th>\n",
       "      <th>Quantity Base</th>\n",
       "      <th>Revenue in BGN</th>\n",
       "    </tr>\n",
       "  </thead>\n",
       "  <tbody>\n",
       "    <tr>\n",
       "      <th>0</th>\n",
       "      <td>Autofolding pushchair Joy Dark Grey</td>\n",
       "      <td>29.10.2024</td>\n",
       "      <td>100103: Bebeshki letni kolichki</td>\n",
       "      <td>31001030204</td>\n",
       "      <td>1</td>\n",
       "      <td>152,33</td>\n",
       "    </tr>\n",
       "    <tr>\n",
       "      <th>1</th>\n",
       "      <td>Pushchair Miley Dark Grey 2023</td>\n",
       "      <td>18.6.2024</td>\n",
       "      <td>100103: Bebeshki letni kolichki</td>\n",
       "      <td>31001030146</td>\n",
       "      <td>10</td>\n",
       "      <td>1088,55</td>\n",
       "    </tr>\n",
       "    <tr>\n",
       "      <th>2</th>\n",
       "      <td>Pushchair Miley Dark Grey 2023</td>\n",
       "      <td>26.3.2024</td>\n",
       "      <td>100103: Bebeshki letni kolichki</td>\n",
       "      <td>31001030146</td>\n",
       "      <td>3</td>\n",
       "      <td>326,57</td>\n",
       "    </tr>\n",
       "    <tr>\n",
       "      <th>3</th>\n",
       "      <td>Pushchair Miley Dark Grey 2023</td>\n",
       "      <td>18.6.2024</td>\n",
       "      <td>100103: Bebeshki letni kolichki</td>\n",
       "      <td>31001030146</td>\n",
       "      <td>4</td>\n",
       "      <td>435,42</td>\n",
       "    </tr>\n",
       "    <tr>\n",
       "      <th>4</th>\n",
       "      <td>Pushchair Miley Dark Grey 2023</td>\n",
       "      <td>23.4.2024</td>\n",
       "      <td>100103: Bebeshki letni kolichki</td>\n",
       "      <td>31001030146</td>\n",
       "      <td>10</td>\n",
       "      <td>1088,55</td>\n",
       "    </tr>\n",
       "  </tbody>\n",
       "</table>\n",
       "</div>"
      ],
      "text/plain": [
       "                   Product Description Document Date  \\\n",
       "0  Autofolding pushchair Joy Dark Grey    29.10.2024   \n",
       "1       Pushchair Miley Dark Grey 2023     18.6.2024   \n",
       "2       Pushchair Miley Dark Grey 2023     26.3.2024   \n",
       "3       Pushchair Miley Dark Grey 2023     18.6.2024   \n",
       "4       Pushchair Miley Dark Grey 2023     23.4.2024   \n",
       "\n",
       "                     Product Group      Product  Quantity Base Revenue in BGN  \n",
       "0  100103: Bebeshki letni kolichki  31001030204              1         152,33  \n",
       "1  100103: Bebeshki letni kolichki  31001030146             10        1088,55  \n",
       "2  100103: Bebeshki letni kolichki  31001030146              3         326,57  \n",
       "3  100103: Bebeshki letni kolichki  31001030146              4         435,42  \n",
       "4  100103: Bebeshki letni kolichki  31001030146             10        1088,55  "
      ]
     },
     "execution_count": 831,
     "metadata": {},
     "output_type": "execute_result"
    }
   ],
   "source": [
    "sales_data.head(5)"
   ]
  },
  {
   "cell_type": "markdown",
   "id": "5c80ab5a",
   "metadata": {},
   "source": [
    "Also the Product column should be renamed as it holds not the actual name of the product, but as the stakeholder explained it is their SKU (stock keeping unit) number, with which they track and store all of their products. One could also ask why do we need both the names and their SKU of the products and I would simply say that:\n",
    "\n",
    "- SKU serves as the unique product identifier and is essential for all core operations, including merging datasets and making product-level predictions.\n",
    "\n",
    "- Product Description is kept to improve readability and visualization, making it easier to interpret results during analysis. Additionally, it may prove useful for handling future tasks such as clustering, grouping, or enriching the data with external sources."
   ]
  },
  {
   "cell_type": "code",
   "execution_count": 832,
   "id": "1f79d38a",
   "metadata": {},
   "outputs": [
    {
     "data": {
      "text/html": [
       "<div>\n",
       "<style scoped>\n",
       "    .dataframe tbody tr th:only-of-type {\n",
       "        vertical-align: middle;\n",
       "    }\n",
       "\n",
       "    .dataframe tbody tr th {\n",
       "        vertical-align: top;\n",
       "    }\n",
       "\n",
       "    .dataframe thead th {\n",
       "        text-align: right;\n",
       "    }\n",
       "</style>\n",
       "<table border=\"1\" class=\"dataframe\">\n",
       "  <thead>\n",
       "    <tr style=\"text-align: right;\">\n",
       "      <th></th>\n",
       "      <th>Product Description</th>\n",
       "      <th>Document Date</th>\n",
       "      <th>Product Group</th>\n",
       "      <th>SKU</th>\n",
       "      <th>Quantity Base</th>\n",
       "      <th>Revenue in BGN</th>\n",
       "    </tr>\n",
       "  </thead>\n",
       "  <tbody>\n",
       "    <tr>\n",
       "      <th>0</th>\n",
       "      <td>Autofolding pushchair Joy Dark Grey</td>\n",
       "      <td>29.10.2024</td>\n",
       "      <td>100103: Bebeshki letni kolichki</td>\n",
       "      <td>31001030204</td>\n",
       "      <td>1</td>\n",
       "      <td>152,33</td>\n",
       "    </tr>\n",
       "    <tr>\n",
       "      <th>1</th>\n",
       "      <td>Pushchair Miley Dark Grey 2023</td>\n",
       "      <td>18.6.2024</td>\n",
       "      <td>100103: Bebeshki letni kolichki</td>\n",
       "      <td>31001030146</td>\n",
       "      <td>10</td>\n",
       "      <td>1088,55</td>\n",
       "    </tr>\n",
       "    <tr>\n",
       "      <th>2</th>\n",
       "      <td>Pushchair Miley Dark Grey 2023</td>\n",
       "      <td>26.3.2024</td>\n",
       "      <td>100103: Bebeshki letni kolichki</td>\n",
       "      <td>31001030146</td>\n",
       "      <td>3</td>\n",
       "      <td>326,57</td>\n",
       "    </tr>\n",
       "    <tr>\n",
       "      <th>3</th>\n",
       "      <td>Pushchair Miley Dark Grey 2023</td>\n",
       "      <td>18.6.2024</td>\n",
       "      <td>100103: Bebeshki letni kolichki</td>\n",
       "      <td>31001030146</td>\n",
       "      <td>4</td>\n",
       "      <td>435,42</td>\n",
       "    </tr>\n",
       "    <tr>\n",
       "      <th>4</th>\n",
       "      <td>Pushchair Miley Dark Grey 2023</td>\n",
       "      <td>23.4.2024</td>\n",
       "      <td>100103: Bebeshki letni kolichki</td>\n",
       "      <td>31001030146</td>\n",
       "      <td>10</td>\n",
       "      <td>1088,55</td>\n",
       "    </tr>\n",
       "  </tbody>\n",
       "</table>\n",
       "</div>"
      ],
      "text/plain": [
       "                   Product Description Document Date  \\\n",
       "0  Autofolding pushchair Joy Dark Grey    29.10.2024   \n",
       "1       Pushchair Miley Dark Grey 2023     18.6.2024   \n",
       "2       Pushchair Miley Dark Grey 2023     26.3.2024   \n",
       "3       Pushchair Miley Dark Grey 2023     18.6.2024   \n",
       "4       Pushchair Miley Dark Grey 2023     23.4.2024   \n",
       "\n",
       "                     Product Group          SKU  Quantity Base Revenue in BGN  \n",
       "0  100103: Bebeshki letni kolichki  31001030204              1         152,33  \n",
       "1  100103: Bebeshki letni kolichki  31001030146             10        1088,55  \n",
       "2  100103: Bebeshki letni kolichki  31001030146              3         326,57  \n",
       "3  100103: Bebeshki letni kolichki  31001030146              4         435,42  \n",
       "4  100103: Bebeshki letni kolichki  31001030146             10        1088,55  "
      ]
     },
     "execution_count": 832,
     "metadata": {},
     "output_type": "execute_result"
    }
   ],
   "source": [
    "sales_data.rename(columns={'Product': 'SKU'}, inplace=True)\n",
    "sales_data.head(5)"
   ]
  },
  {
   "cell_type": "markdown",
   "id": "de722a04",
   "metadata": {},
   "source": [
    "Now that we have analyzed all the columns, excluded irrelevant ones and kept the others, we should now pay attention to their data types as for the model, this step is crucial."
   ]
  },
  {
   "cell_type": "code",
   "execution_count": 833,
   "id": "35968aed",
   "metadata": {},
   "outputs": [
    {
     "name": "stdout",
     "output_type": "stream",
     "text": [
      "<class 'pandas.core.frame.DataFrame'>\n",
      "RangeIndex: 20602 entries, 0 to 20601\n",
      "Data columns (total 6 columns):\n",
      " #   Column               Non-Null Count  Dtype \n",
      "---  ------               --------------  ----- \n",
      " 0   Product Description  20602 non-null  object\n",
      " 1   Document Date        20602 non-null  object\n",
      " 2   Product Group        20602 non-null  object\n",
      " 3   SKU                  20602 non-null  int64 \n",
      " 4   Quantity Base        20602 non-null  int64 \n",
      " 5   Revenue in BGN       20602 non-null  object\n",
      "dtypes: int64(2), object(4)\n",
      "memory usage: 965.8+ KB\n"
     ]
    }
   ],
   "source": [
    "sales_data.info()"
   ]
  },
  {
   "cell_type": "markdown",
   "id": "7c04e16c",
   "metadata": {},
   "source": [
    "As we can see there are 20602 rows, which is not that bad and even more good is that there are no empty values (there are no rows with some empty column values). \n",
    "\n",
    "First we have the Document Date we shoud convert it to `datetime` so we can sort by time, group by week/month/year, resample, plot trends and forecast properly.\n",
    "\n",
    "The `Revenue in BGN` needs to be float with commas instead of dots.\n",
    "\n",
    "The rest columns are their appropriate data type.\n",
    "\n",
    "Let's now commence with the data cleaning and processing the data and first convert all the columns we said that they need to be converted."
   ]
  },
  {
   "cell_type": "code",
   "execution_count": 834,
   "id": "c437ed06",
   "metadata": {},
   "outputs": [
    {
     "data": {
      "text/plain": [
       "0   2024-10-29\n",
       "1   2024-06-18\n",
       "2   2024-03-26\n",
       "3   2024-06-18\n",
       "4   2024-04-23\n",
       "Name: Document Date, dtype: datetime64[ns]"
      ]
     },
     "execution_count": 834,
     "metadata": {},
     "output_type": "execute_result"
    }
   ],
   "source": [
    "sales_data['Document Date'] = pd.to_datetime(\n",
    "    sales_data['Document Date'],\n",
    "    format='%d.%m.%Y',     # day.month.year format\n",
    "    errors='coerce'        # invalid formats become NaT\n",
    ")\n",
    "\n",
    "sales_data['Document Date'].head()"
   ]
  },
  {
   "cell_type": "code",
   "execution_count": 835,
   "id": "f3c9d661",
   "metadata": {},
   "outputs": [],
   "source": [
    "cols_to_clean = ['Revenue in BGN']\n",
    "\n",
    "for col in cols_to_clean:\n",
    "    sales_data[col] = sales_data[col].str.replace(',', '.', regex=False)\n",
    "    sales_data[col] = sales_data[col].astype(float)"
   ]
  },
  {
   "cell_type": "code",
   "execution_count": 836,
   "id": "cf906e26",
   "metadata": {},
   "outputs": [
    {
     "data": {
      "text/plain": [
       "Product Description            object\n",
       "Document Date          datetime64[ns]\n",
       "Product Group                  object\n",
       "SKU                             int64\n",
       "Quantity Base                   int64\n",
       "Revenue in BGN                float64\n",
       "dtype: object"
      ]
     },
     "execution_count": 836,
     "metadata": {},
     "output_type": "execute_result"
    }
   ],
   "source": [
    "sales_data.dtypes"
   ]
  },
  {
   "cell_type": "markdown",
   "id": "da3112a8",
   "metadata": {},
   "source": [
    "Perfect! We converted them successfully."
   ]
  },
  {
   "cell_type": "markdown",
   "id": "82610e7c",
   "metadata": {},
   "source": [
    "Now that we have converted **`date`** to an appropriate data type we should combine into, which would not only help us visualize trends, but also because during iteration 0 that sales data had individual rows for each sale transaction (per product, per date) and we used those individual transactions as rows, we added time-based features like *`month`*, *`week`*, *`day_of_week`*, BUT we did not group or structure the data per stroller model over time. \n",
    "\n",
    "In other words we missed the \"time series per product\" structure meaning, we did not actually aggregate daily sales per stroller. That led to the model treating each sale as an isolated event and not taking into consideration the same stroller sold over time. Therefore it couldn't learn product-specific trends, just general patterns across that dataset. \n",
    "\n",
    "That is why to avoid confusing the model we are going to create the `monthly_sales` DataFrame to transform detailed transaction-level data into a summarized time series format, where each row represents monthly sales per product (SKU).\n",
    "\n",
    "That way we:\n",
    "- Instead of working with thousands of individual invoices, we now have 1 row per SKU per month.\n",
    "- Much easier for training a demand forecasting model.\n",
    "- We can now add lag values, rolling averages, seasonal effects, and trend indicators.\n",
    "- We get total units sold and total revenue for each product per month."
   ]
  },
  {
   "cell_type": "code",
   "execution_count": 837,
   "id": "01839626",
   "metadata": {},
   "outputs": [
    {
     "data": {
      "text/html": [
       "<div>\n",
       "<style scoped>\n",
       "    .dataframe tbody tr th:only-of-type {\n",
       "        vertical-align: middle;\n",
       "    }\n",
       "\n",
       "    .dataframe tbody tr th {\n",
       "        vertical-align: top;\n",
       "    }\n",
       "\n",
       "    .dataframe thead th {\n",
       "        text-align: right;\n",
       "    }\n",
       "</style>\n",
       "<table border=\"1\" class=\"dataframe\">\n",
       "  <thead>\n",
       "    <tr style=\"text-align: right;\">\n",
       "      <th></th>\n",
       "      <th>Product Description</th>\n",
       "      <th>Document Date</th>\n",
       "      <th>Product Group</th>\n",
       "      <th>SKU</th>\n",
       "      <th>Quantity Base</th>\n",
       "      <th>Revenue in BGN</th>\n",
       "      <th>Month</th>\n",
       "    </tr>\n",
       "  </thead>\n",
       "  <tbody>\n",
       "    <tr>\n",
       "      <th>15182</th>\n",
       "      <td>Stroller 3in1 transf. seat Beloved Dark Grey</td>\n",
       "      <td>2023-01-04</td>\n",
       "      <td>100101: Kombinirani bebeshki kolichki 3 v 1</td>\n",
       "      <td>31001010118</td>\n",
       "      <td>1</td>\n",
       "      <td>285.14</td>\n",
       "      <td>2023-01-01</td>\n",
       "    </tr>\n",
       "    <tr>\n",
       "      <th>8010</th>\n",
       "      <td>Pushchair Juno Beige 2020</td>\n",
       "      <td>2023-01-04</td>\n",
       "      <td>100103: Bebeshki letni kolichki</td>\n",
       "      <td>31001030107</td>\n",
       "      <td>1</td>\n",
       "      <td>127.29</td>\n",
       "      <td>2023-01-01</td>\n",
       "    </tr>\n",
       "    <tr>\n",
       "      <th>2642</th>\n",
       "      <td>Stroller 2in1 with carrycot Thea Dark Grey</td>\n",
       "      <td>2023-01-04</td>\n",
       "      <td>100102: Kombinirani bebeshki kolichki 2 v 1</td>\n",
       "      <td>31001020110</td>\n",
       "      <td>1</td>\n",
       "      <td>541.59</td>\n",
       "      <td>2023-01-01</td>\n",
       "    </tr>\n",
       "    <tr>\n",
       "      <th>14751</th>\n",
       "      <td>Pushchair Beetle Beige</td>\n",
       "      <td>2023-01-04</td>\n",
       "      <td>100103: Bebeshki letni kolichki</td>\n",
       "      <td>31001030077</td>\n",
       "      <td>1</td>\n",
       "      <td>79.43</td>\n",
       "      <td>2023-01-01</td>\n",
       "    </tr>\n",
       "    <tr>\n",
       "      <th>425</th>\n",
       "      <td>Stroller 3in1 Madrid Mint Melange 2020</td>\n",
       "      <td>2023-01-04</td>\n",
       "      <td>100101: Kombinirani bebeshki kolichki 3 v 1</td>\n",
       "      <td>31001010135</td>\n",
       "      <td>1</td>\n",
       "      <td>416.07</td>\n",
       "      <td>2023-01-01</td>\n",
       "    </tr>\n",
       "  </tbody>\n",
       "</table>\n",
       "</div>"
      ],
      "text/plain": [
       "                                Product Description Document Date  \\\n",
       "15182  Stroller 3in1 transf. seat Beloved Dark Grey    2023-01-04   \n",
       "8010                      Pushchair Juno Beige 2020    2023-01-04   \n",
       "2642     Stroller 2in1 with carrycot Thea Dark Grey    2023-01-04   \n",
       "14751                        Pushchair Beetle Beige    2023-01-04   \n",
       "425          Stroller 3in1 Madrid Mint Melange 2020    2023-01-04   \n",
       "\n",
       "                                     Product Group          SKU  \\\n",
       "15182  100101: Kombinirani bebeshki kolichki 3 v 1  31001010118   \n",
       "8010               100103: Bebeshki letni kolichki  31001030107   \n",
       "2642   100102: Kombinirani bebeshki kolichki 2 v 1  31001020110   \n",
       "14751              100103: Bebeshki letni kolichki  31001030077   \n",
       "425    100101: Kombinirani bebeshki kolichki 3 v 1  31001010135   \n",
       "\n",
       "       Quantity Base  Revenue in BGN      Month  \n",
       "15182              1          285.14 2023-01-01  \n",
       "8010               1          127.29 2023-01-01  \n",
       "2642               1          541.59 2023-01-01  \n",
       "14751              1           79.43 2023-01-01  \n",
       "425                1          416.07 2023-01-01  "
      ]
     },
     "execution_count": 837,
     "metadata": {},
     "output_type": "execute_result"
    }
   ],
   "source": [
    "sales_data.sort_values('Document Date', inplace=True)\n",
    "sales_data['Month'] = sales_data['Document Date'].dt.to_period('M').dt.to_timestamp()\n",
    "sales_data.head(5)"
   ]
  },
  {
   "cell_type": "code",
   "execution_count": 838,
   "id": "2e3104b4",
   "metadata": {},
   "outputs": [
    {
     "data": {
      "text/html": [
       "<div>\n",
       "<style scoped>\n",
       "    .dataframe tbody tr th:only-of-type {\n",
       "        vertical-align: middle;\n",
       "    }\n",
       "\n",
       "    .dataframe tbody tr th {\n",
       "        vertical-align: top;\n",
       "    }\n",
       "\n",
       "    .dataframe thead th {\n",
       "        text-align: right;\n",
       "    }\n",
       "</style>\n",
       "<table border=\"1\" class=\"dataframe\">\n",
       "  <thead>\n",
       "    <tr style=\"text-align: right;\">\n",
       "      <th></th>\n",
       "      <th>SKU</th>\n",
       "      <th>Product Description</th>\n",
       "      <th>Product Group</th>\n",
       "      <th>Month</th>\n",
       "      <th>Quantity</th>\n",
       "      <th>Revenue</th>\n",
       "    </tr>\n",
       "  </thead>\n",
       "  <tbody>\n",
       "    <tr>\n",
       "      <th>0</th>\n",
       "      <td>31001010007</td>\n",
       "      <td>Stroller 3 in 1 Allure Lilac</td>\n",
       "      <td>100101: Kombinirani bebeshki kolichki 3 v 1</td>\n",
       "      <td>2024-12-01</td>\n",
       "      <td>2</td>\n",
       "      <td>623.88</td>\n",
       "    </tr>\n",
       "    <tr>\n",
       "      <th>1</th>\n",
       "      <td>31001010045</td>\n",
       "      <td>Stroller 3 in 1 Madrid Green Melange</td>\n",
       "      <td>100101: Kombinirani bebeshki kolichki 3 v 1</td>\n",
       "      <td>2024-12-01</td>\n",
       "      <td>1</td>\n",
       "      <td>250.00</td>\n",
       "    </tr>\n",
       "    <tr>\n",
       "      <th>2</th>\n",
       "      <td>31001010055</td>\n",
       "      <td>Stroller 3in1 transf. seat Darling Beige</td>\n",
       "      <td>100101: Kombinirani bebeshki kolichki 3 v 1</td>\n",
       "      <td>2023-01-01</td>\n",
       "      <td>3</td>\n",
       "      <td>683.96</td>\n",
       "    </tr>\n",
       "    <tr>\n",
       "      <th>3</th>\n",
       "      <td>31001010055</td>\n",
       "      <td>Stroller 3in1 transf. seat Darling Beige</td>\n",
       "      <td>100101: Kombinirani bebeshki kolichki 3 v 1</td>\n",
       "      <td>2023-02-01</td>\n",
       "      <td>2</td>\n",
       "      <td>435.88</td>\n",
       "    </tr>\n",
       "    <tr>\n",
       "      <th>4</th>\n",
       "      <td>31001010055</td>\n",
       "      <td>Stroller 3in1 transf. seat Darling Beige</td>\n",
       "      <td>100101: Kombinirani bebeshki kolichki 3 v 1</td>\n",
       "      <td>2024-12-01</td>\n",
       "      <td>1</td>\n",
       "      <td>201.36</td>\n",
       "    </tr>\n",
       "  </tbody>\n",
       "</table>\n",
       "</div>"
      ],
      "text/plain": [
       "           SKU                       Product Description  \\\n",
       "0  31001010007              Stroller 3 in 1 Allure Lilac   \n",
       "1  31001010045      Stroller 3 in 1 Madrid Green Melange   \n",
       "2  31001010055  Stroller 3in1 transf. seat Darling Beige   \n",
       "3  31001010055  Stroller 3in1 transf. seat Darling Beige   \n",
       "4  31001010055  Stroller 3in1 transf. seat Darling Beige   \n",
       "\n",
       "                                 Product Group      Month  Quantity  Revenue  \n",
       "0  100101: Kombinirani bebeshki kolichki 3 v 1 2024-12-01         2   623.88  \n",
       "1  100101: Kombinirani bebeshki kolichki 3 v 1 2024-12-01         1   250.00  \n",
       "2  100101: Kombinirani bebeshki kolichki 3 v 1 2023-01-01         3   683.96  \n",
       "3  100101: Kombinirani bebeshki kolichki 3 v 1 2023-02-01         2   435.88  \n",
       "4  100101: Kombinirani bebeshki kolichki 3 v 1 2024-12-01         1   201.36  "
      ]
     },
     "execution_count": 838,
     "metadata": {},
     "output_type": "execute_result"
    }
   ],
   "source": [
    "monthly_sales = (\n",
    "    sales_data\n",
    "    .groupby(['SKU', 'Product Description', 'Product Group', 'Month'])\n",
    "    .agg(\n",
    "        Quantity=('Quantity Base', 'sum'),\n",
    "        Revenue=('Revenue in BGN', 'sum')\n",
    "    )\n",
    "    .reset_index()\n",
    ")\n",
    "\n",
    "monthly_sales.head(5)"
   ]
  },
  {
   "cell_type": "markdown",
   "id": "2e5da719",
   "metadata": {},
   "source": [
    "This format is ideal when we want to predict future monthly demand per product."
   ]
  },
  {
   "cell_type": "markdown",
   "id": "9a09804a",
   "metadata": {},
   "source": [
    "Now that we applied all cleaning methods with the additional comments to the sales dataset we are left with our *NEW* dataset of the stock level of the products. Let's use the same cleaning methods to this dataset also."
   ]
  },
  {
   "cell_type": "code",
   "execution_count": 839,
   "id": "312ed1ca",
   "metadata": {},
   "outputs": [
    {
     "data": {
      "text/html": [
       "<div>\n",
       "<style scoped>\n",
       "    .dataframe tbody tr th:only-of-type {\n",
       "        vertical-align: middle;\n",
       "    }\n",
       "\n",
       "    .dataframe tbody tr th {\n",
       "        vertical-align: top;\n",
       "    }\n",
       "\n",
       "    .dataframe thead th {\n",
       "        text-align: right;\n",
       "    }\n",
       "</style>\n",
       "<table border=\"1\" class=\"dataframe\">\n",
       "  <thead>\n",
       "    <tr style=\"text-align: right;\">\n",
       "      <th></th>\n",
       "      <th>Product Group Level 4</th>\n",
       "      <th>Product Name</th>\n",
       "      <th>Store</th>\n",
       "      <th>Product</th>\n",
       "      <th>Quantity</th>\n",
       "      <th>Quantity Unit</th>\n",
       "      <th>Quantity Base</th>\n",
       "    </tr>\n",
       "  </thead>\n",
       "  <tbody>\n",
       "    <tr>\n",
       "      <th>2040</th>\n",
       "      <td>100103: Bebeshki letni kolichki</td>\n",
       "      <td>Pushchair Fitto Beige</td>\n",
       "      <td>1414 PLOVDIV KIKA GRUP TRANZITEN</td>\n",
       "      <td>31001030116</td>\n",
       "      <td>0</td>\n",
       "      <td>pcs</td>\n",
       "      <td>0</td>\n",
       "    </tr>\n",
       "    <tr>\n",
       "      <th>2005</th>\n",
       "      <td>100103: Bebeshki letni kolichki</td>\n",
       "      <td>Pushchair Cloe Black 2024</td>\n",
       "      <td>1415 PLOVDIV KIKA GRUP - OKOLOVRASTEN PAT</td>\n",
       "      <td>31001030158</td>\n",
       "      <td>379</td>\n",
       "      <td>pcs</td>\n",
       "      <td>379</td>\n",
       "    </tr>\n",
       "    <tr>\n",
       "      <th>438</th>\n",
       "      <td>100101: Kombinirani bebeshki kolichki 3 v 1</td>\n",
       "      <td>Stroller 3in1 Madrid Dark Grey Melange 2020</td>\n",
       "      <td>1410 PLOVDIV KIKA GRUP TRUD</td>\n",
       "      <td>31001010132</td>\n",
       "      <td>1</td>\n",
       "      <td>pcs</td>\n",
       "      <td>1</td>\n",
       "    </tr>\n",
       "    <tr>\n",
       "      <th>1996</th>\n",
       "      <td>100103: Bebeshki letni kolichki</td>\n",
       "      <td>Pushchair Cloe Beige 2024</td>\n",
       "      <td>1415 PLOVDIV KIKA GRUP - OKOLOVRASTEN PAT</td>\n",
       "      <td>31001030160</td>\n",
       "      <td>73</td>\n",
       "      <td>pcs</td>\n",
       "      <td>73</td>\n",
       "    </tr>\n",
       "    <tr>\n",
       "      <th>409</th>\n",
       "      <td>100101: Kombinirani bebeshki kolichki 3 v 1</td>\n",
       "      <td>Stroller 3in1 Cherie Beige</td>\n",
       "      <td>1412 PLOVDIV KIKA GRUP MAGAZIN</td>\n",
       "      <td>31001010184</td>\n",
       "      <td>0</td>\n",
       "      <td>pcs</td>\n",
       "      <td>0</td>\n",
       "    </tr>\n",
       "  </tbody>\n",
       "</table>\n",
       "</div>"
      ],
      "text/plain": [
       "                            Product Group Level 4  \\\n",
       "2040              100103: Bebeshki letni kolichki   \n",
       "2005              100103: Bebeshki letni kolichki   \n",
       "438   100101: Kombinirani bebeshki kolichki 3 v 1   \n",
       "1996              100103: Bebeshki letni kolichki   \n",
       "409   100101: Kombinirani bebeshki kolichki 3 v 1   \n",
       "\n",
       "                                     Product Name  \\\n",
       "2040                        Pushchair Fitto Beige   \n",
       "2005                    Pushchair Cloe Black 2024   \n",
       "438   Stroller 3in1 Madrid Dark Grey Melange 2020   \n",
       "1996                    Pushchair Cloe Beige 2024   \n",
       "409                    Stroller 3in1 Cherie Beige   \n",
       "\n",
       "                                          Store      Product  Quantity  \\\n",
       "2040           1414 PLOVDIV KIKA GRUP TRANZITEN  31001030116         0   \n",
       "2005  1415 PLOVDIV KIKA GRUP - OKOLOVRASTEN PAT  31001030158       379   \n",
       "438                 1410 PLOVDIV KIKA GRUP TRUD  31001010132         1   \n",
       "1996  1415 PLOVDIV KIKA GRUP - OKOLOVRASTEN PAT  31001030160        73   \n",
       "409              1412 PLOVDIV KIKA GRUP MAGAZIN  31001010184         0   \n",
       "\n",
       "     Quantity Unit  Quantity Base  \n",
       "2040           pcs              0  \n",
       "2005           pcs            379  \n",
       "438            pcs              1  \n",
       "1996           pcs             73  \n",
       "409            pcs              0  "
      ]
     },
     "execution_count": 839,
     "metadata": {},
     "output_type": "execute_result"
    }
   ],
   "source": [
    "stock_level = pd.read_csv(\"stock_level_strollers_01012025.csv\", encoding=\"utf-8\", delimiter=\";\")\n",
    "stock_level.sample(5)"
   ]
  },
  {
   "cell_type": "code",
   "execution_count": 840,
   "id": "ec22d928",
   "metadata": {},
   "outputs": [
    {
     "name": "stdout",
     "output_type": "stream",
     "text": [
      "['Product Group Level 4', 'Product Name', 'Store', 'Product', 'Quantity', 'Quantity Unit', 'Quantity Base']\n"
     ]
    }
   ],
   "source": [
    "print(stock_level.columns.to_list())"
   ]
  },
  {
   "cell_type": "markdown",
   "id": "35862010",
   "metadata": {},
   "source": [
    "Now immedietely we can cut off the columns `Store`, because we're doing national-level forecasting (not per store), so individual store locations aren't needed. If we later want per-store predictions, we can add it back."
   ]
  },
  {
   "cell_type": "markdown",
   "id": "2ab1c683",
   "metadata": {},
   "source": [
    "Then of course before we cut it let's check if only *`pcs`* is the value in `Quantity Unit`. If it is we are also going to cut it."
   ]
  },
  {
   "cell_type": "code",
   "execution_count": 841,
   "id": "17f31193",
   "metadata": {},
   "outputs": [
    {
     "data": {
      "text/plain": [
       "array(['pcs'], dtype=object)"
      ]
     },
     "execution_count": 841,
     "metadata": {},
     "output_type": "execute_result"
    }
   ],
   "source": [
    "stock_level['Quantity Unit'].unique()"
   ]
  },
  {
   "cell_type": "markdown",
   "id": "63752df1",
   "metadata": {},
   "source": [
    "As we can see it so we are also going to add it to the 'to be' dropped columns."
   ]
  },
  {
   "cell_type": "markdown",
   "id": "9c496637",
   "metadata": {},
   "source": [
    "Now let's check if there is any different values in `Quantity` and `Quantity Base`."
   ]
  },
  {
   "cell_type": "code",
   "execution_count": 842,
   "id": "93ff4c03",
   "metadata": {},
   "outputs": [
    {
     "name": "stdout",
     "output_type": "stream",
     "text": [
      "Rows where Quantity and Quantity Base differ: 0\n"
     ]
    }
   ],
   "source": [
    "difference = (stock_level['Quantity'] != stock_level['Quantity Base']).sum()\n",
    "print(f\"Rows where Quantity and Quantity Base differ: {difference}\")\n"
   ]
  },
  {
   "cell_type": "markdown",
   "id": "b4cc7de0",
   "metadata": {},
   "source": [
    "The above result means we can safely drop one of them, and by convention, it’s cleaner to keep the standardized one — usually `Quantity Base`, which are going to rename to `Current Stock`."
   ]
  },
  {
   "cell_type": "code",
   "execution_count": 843,
   "id": "8cb3ec39",
   "metadata": {},
   "outputs": [
    {
     "data": {
      "text/html": [
       "<div>\n",
       "<style scoped>\n",
       "    .dataframe tbody tr th:only-of-type {\n",
       "        vertical-align: middle;\n",
       "    }\n",
       "\n",
       "    .dataframe tbody tr th {\n",
       "        vertical-align: top;\n",
       "    }\n",
       "\n",
       "    .dataframe thead th {\n",
       "        text-align: right;\n",
       "    }\n",
       "</style>\n",
       "<table border=\"1\" class=\"dataframe\">\n",
       "  <thead>\n",
       "    <tr style=\"text-align: right;\">\n",
       "      <th></th>\n",
       "      <th>Product Group Level 4</th>\n",
       "      <th>Product Name</th>\n",
       "      <th>Product</th>\n",
       "      <th>Quantity Base</th>\n",
       "    </tr>\n",
       "  </thead>\n",
       "  <tbody>\n",
       "    <tr>\n",
       "      <th>0</th>\n",
       "      <td>100101: Kombinirani bebeshki kolichki 3 v 1</td>\n",
       "      <td>Baby Stroller Allure Blue</td>\n",
       "      <td>31001010008</td>\n",
       "      <td>0</td>\n",
       "    </tr>\n",
       "    <tr>\n",
       "      <th>1</th>\n",
       "      <td>100101: Kombinirani bebeshki kolichki 3 v 1</td>\n",
       "      <td>Baby Stroller Allure Blue</td>\n",
       "      <td>31001010008</td>\n",
       "      <td>0</td>\n",
       "    </tr>\n",
       "    <tr>\n",
       "      <th>2</th>\n",
       "      <td>100101: Kombinirani bebeshki kolichki 3 v 1</td>\n",
       "      <td>Baby Stroller Allure Blue</td>\n",
       "      <td>31001010008</td>\n",
       "      <td>0</td>\n",
       "    </tr>\n",
       "    <tr>\n",
       "      <th>3</th>\n",
       "      <td>100101: Kombinirani bebeshki kolichki 3 v 1</td>\n",
       "      <td>Baby Stroller Allure Blue</td>\n",
       "      <td>31001010008</td>\n",
       "      <td>1</td>\n",
       "    </tr>\n",
       "    <tr>\n",
       "      <th>4</th>\n",
       "      <td>100101: Kombinirani bebeshki kolichki 3 v 1</td>\n",
       "      <td>Baby Stroller Allure Blue</td>\n",
       "      <td>31001010008</td>\n",
       "      <td>0</td>\n",
       "    </tr>\n",
       "  </tbody>\n",
       "</table>\n",
       "</div>"
      ],
      "text/plain": [
       "                         Product Group Level 4               Product Name  \\\n",
       "0  100101: Kombinirani bebeshki kolichki 3 v 1  Baby Stroller Allure Blue   \n",
       "1  100101: Kombinirani bebeshki kolichki 3 v 1  Baby Stroller Allure Blue   \n",
       "2  100101: Kombinirani bebeshki kolichki 3 v 1  Baby Stroller Allure Blue   \n",
       "3  100101: Kombinirani bebeshki kolichki 3 v 1  Baby Stroller Allure Blue   \n",
       "4  100101: Kombinirani bebeshki kolichki 3 v 1  Baby Stroller Allure Blue   \n",
       "\n",
       "       Product  Quantity Base  \n",
       "0  31001010008              0  \n",
       "1  31001010008              0  \n",
       "2  31001010008              0  \n",
       "3  31001010008              1  \n",
       "4  31001010008              0  "
      ]
     },
     "execution_count": 843,
     "metadata": {},
     "output_type": "execute_result"
    }
   ],
   "source": [
    "stock_level = stock_level.drop(columns=[\n",
    "    'Store',           \n",
    "    'Quantity',       \n",
    "    'Quantity Unit'\n",
    "])\n",
    "\n",
    "stock_level.head()"
   ]
  },
  {
   "cell_type": "code",
   "execution_count": 844,
   "id": "36179562",
   "metadata": {},
   "outputs": [
    {
     "name": "stdout",
     "output_type": "stream",
     "text": [
      "<class 'pandas.core.frame.DataFrame'>\n",
      "RangeIndex: 2541 entries, 0 to 2540\n",
      "Data columns (total 4 columns):\n",
      " #   Column                 Non-Null Count  Dtype \n",
      "---  ------                 --------------  ----- \n",
      " 0   Product Group Level 4  2541 non-null   object\n",
      " 1   Product Name           2541 non-null   object\n",
      " 2   Product                2541 non-null   int64 \n",
      " 3   Quantity Base          2541 non-null   int64 \n",
      "dtypes: int64(2), object(2)\n",
      "memory usage: 79.5+ KB\n"
     ]
    }
   ],
   "source": [
    "stock_level.info()"
   ]
  },
  {
   "cell_type": "markdown",
   "id": "e27953ed",
   "metadata": {},
   "source": [
    "Also after we do a check-up on the data types with *`.info()`* everything seems perfect. No missing values and also all of the columns' values are in the correct `Dtype`. This confirmation allows us now to begin with merging. Let's just also rename the `Product` column to `SKU` for more clarity and also the previously mentioned column `Quantity Base`."
   ]
  },
  {
   "cell_type": "code",
   "execution_count": 845,
   "id": "635e993e",
   "metadata": {},
   "outputs": [
    {
     "data": {
      "text/html": [
       "<div>\n",
       "<style scoped>\n",
       "    .dataframe tbody tr th:only-of-type {\n",
       "        vertical-align: middle;\n",
       "    }\n",
       "\n",
       "    .dataframe tbody tr th {\n",
       "        vertical-align: top;\n",
       "    }\n",
       "\n",
       "    .dataframe thead th {\n",
       "        text-align: right;\n",
       "    }\n",
       "</style>\n",
       "<table border=\"1\" class=\"dataframe\">\n",
       "  <thead>\n",
       "    <tr style=\"text-align: right;\">\n",
       "      <th></th>\n",
       "      <th>Product Group Level 4</th>\n",
       "      <th>Product Name</th>\n",
       "      <th>SKU</th>\n",
       "      <th>Current_Stock</th>\n",
       "    </tr>\n",
       "  </thead>\n",
       "  <tbody>\n",
       "    <tr>\n",
       "      <th>0</th>\n",
       "      <td>100101: Kombinirani bebeshki kolichki 3 v 1</td>\n",
       "      <td>Baby Stroller Allure Blue</td>\n",
       "      <td>31001010008</td>\n",
       "      <td>0</td>\n",
       "    </tr>\n",
       "    <tr>\n",
       "      <th>1</th>\n",
       "      <td>100101: Kombinirani bebeshki kolichki 3 v 1</td>\n",
       "      <td>Baby Stroller Allure Blue</td>\n",
       "      <td>31001010008</td>\n",
       "      <td>0</td>\n",
       "    </tr>\n",
       "    <tr>\n",
       "      <th>2</th>\n",
       "      <td>100101: Kombinirani bebeshki kolichki 3 v 1</td>\n",
       "      <td>Baby Stroller Allure Blue</td>\n",
       "      <td>31001010008</td>\n",
       "      <td>0</td>\n",
       "    </tr>\n",
       "    <tr>\n",
       "      <th>3</th>\n",
       "      <td>100101: Kombinirani bebeshki kolichki 3 v 1</td>\n",
       "      <td>Baby Stroller Allure Blue</td>\n",
       "      <td>31001010008</td>\n",
       "      <td>1</td>\n",
       "    </tr>\n",
       "    <tr>\n",
       "      <th>4</th>\n",
       "      <td>100101: Kombinirani bebeshki kolichki 3 v 1</td>\n",
       "      <td>Baby Stroller Allure Blue</td>\n",
       "      <td>31001010008</td>\n",
       "      <td>0</td>\n",
       "    </tr>\n",
       "  </tbody>\n",
       "</table>\n",
       "</div>"
      ],
      "text/plain": [
       "                         Product Group Level 4               Product Name  \\\n",
       "0  100101: Kombinirani bebeshki kolichki 3 v 1  Baby Stroller Allure Blue   \n",
       "1  100101: Kombinirani bebeshki kolichki 3 v 1  Baby Stroller Allure Blue   \n",
       "2  100101: Kombinirani bebeshki kolichki 3 v 1  Baby Stroller Allure Blue   \n",
       "3  100101: Kombinirani bebeshki kolichki 3 v 1  Baby Stroller Allure Blue   \n",
       "4  100101: Kombinirani bebeshki kolichki 3 v 1  Baby Stroller Allure Blue   \n",
       "\n",
       "           SKU  Current_Stock  \n",
       "0  31001010008              0  \n",
       "1  31001010008              0  \n",
       "2  31001010008              0  \n",
       "3  31001010008              1  \n",
       "4  31001010008              0  "
      ]
     },
     "execution_count": 845,
     "metadata": {},
     "output_type": "execute_result"
    }
   ],
   "source": [
    "stock_level.rename(columns={'Product': 'SKU', 'Quantity Base': 'Current_Stock'}, inplace=True)\n",
    "stock_level.head(5)"
   ]
  },
  {
   "cell_type": "markdown",
   "id": "bf147a0e",
   "metadata": {},
   "source": [
    "Perfect! Now we are officially ready for merging our datasets."
   ]
  },
  {
   "cell_type": "code",
   "execution_count": 846,
   "id": "386bdb1b",
   "metadata": {},
   "outputs": [
    {
     "data": {
      "text/html": [
       "<div>\n",
       "<style scoped>\n",
       "    .dataframe tbody tr th:only-of-type {\n",
       "        vertical-align: middle;\n",
       "    }\n",
       "\n",
       "    .dataframe tbody tr th {\n",
       "        vertical-align: top;\n",
       "    }\n",
       "\n",
       "    .dataframe thead th {\n",
       "        text-align: right;\n",
       "    }\n",
       "</style>\n",
       "<table border=\"1\" class=\"dataframe\">\n",
       "  <thead>\n",
       "    <tr style=\"text-align: right;\">\n",
       "      <th></th>\n",
       "      <th>SKU</th>\n",
       "      <th>Product Description</th>\n",
       "      <th>Product Group</th>\n",
       "      <th>Month</th>\n",
       "      <th>Quantity</th>\n",
       "      <th>Revenue</th>\n",
       "      <th>Current_Stock</th>\n",
       "    </tr>\n",
       "  </thead>\n",
       "  <tbody>\n",
       "    <tr>\n",
       "      <th>0</th>\n",
       "      <td>31001010007</td>\n",
       "      <td>Stroller 3 in 1 Allure Lilac</td>\n",
       "      <td>100101: Kombinirani bebeshki kolichki 3 v 1</td>\n",
       "      <td>2024-12-01</td>\n",
       "      <td>2</td>\n",
       "      <td>623.88</td>\n",
       "      <td>0</td>\n",
       "    </tr>\n",
       "    <tr>\n",
       "      <th>1</th>\n",
       "      <td>31001010045</td>\n",
       "      <td>Stroller 3 in 1 Madrid Green Melange</td>\n",
       "      <td>100101: Kombinirani bebeshki kolichki 3 v 1</td>\n",
       "      <td>2024-12-01</td>\n",
       "      <td>1</td>\n",
       "      <td>250.00</td>\n",
       "      <td>5</td>\n",
       "    </tr>\n",
       "    <tr>\n",
       "      <th>2</th>\n",
       "      <td>31001010055</td>\n",
       "      <td>Stroller 3in1 transf. seat Darling Beige</td>\n",
       "      <td>100101: Kombinirani bebeshki kolichki 3 v 1</td>\n",
       "      <td>2023-01-01</td>\n",
       "      <td>3</td>\n",
       "      <td>683.96</td>\n",
       "      <td>9</td>\n",
       "    </tr>\n",
       "    <tr>\n",
       "      <th>3</th>\n",
       "      <td>31001010055</td>\n",
       "      <td>Stroller 3in1 transf. seat Darling Beige</td>\n",
       "      <td>100101: Kombinirani bebeshki kolichki 3 v 1</td>\n",
       "      <td>2023-02-01</td>\n",
       "      <td>2</td>\n",
       "      <td>435.88</td>\n",
       "      <td>9</td>\n",
       "    </tr>\n",
       "    <tr>\n",
       "      <th>4</th>\n",
       "      <td>31001010055</td>\n",
       "      <td>Stroller 3in1 transf. seat Darling Beige</td>\n",
       "      <td>100101: Kombinirani bebeshki kolichki 3 v 1</td>\n",
       "      <td>2024-12-01</td>\n",
       "      <td>1</td>\n",
       "      <td>201.36</td>\n",
       "      <td>9</td>\n",
       "    </tr>\n",
       "  </tbody>\n",
       "</table>\n",
       "</div>"
      ],
      "text/plain": [
       "           SKU                       Product Description  \\\n",
       "0  31001010007              Stroller 3 in 1 Allure Lilac   \n",
       "1  31001010045      Stroller 3 in 1 Madrid Green Melange   \n",
       "2  31001010055  Stroller 3in1 transf. seat Darling Beige   \n",
       "3  31001010055  Stroller 3in1 transf. seat Darling Beige   \n",
       "4  31001010055  Stroller 3in1 transf. seat Darling Beige   \n",
       "\n",
       "                                 Product Group      Month  Quantity  Revenue  \\\n",
       "0  100101: Kombinirani bebeshki kolichki 3 v 1 2024-12-01         2   623.88   \n",
       "1  100101: Kombinirani bebeshki kolichki 3 v 1 2024-12-01         1   250.00   \n",
       "2  100101: Kombinirani bebeshki kolichki 3 v 1 2023-01-01         3   683.96   \n",
       "3  100101: Kombinirani bebeshki kolichki 3 v 1 2023-02-01         2   435.88   \n",
       "4  100101: Kombinirani bebeshki kolichki 3 v 1 2024-12-01         1   201.36   \n",
       "\n",
       "   Current_Stock  \n",
       "0              0  \n",
       "1              5  \n",
       "2              9  \n",
       "3              9  \n",
       "4              9  "
      ]
     },
     "execution_count": 846,
     "metadata": {},
     "output_type": "execute_result"
    }
   ],
   "source": [
    "stock_by_sku = stock_level.groupby('SKU', as_index=False)['Current_Stock'].sum()\n",
    "merged_df = monthly_sales.merge(stock_by_sku, on='SKU', how='left')\n",
    "merged_df['Current_Stock'] = merged_df['Current_Stock'].fillna(0).astype(int) #fill the current stock of products who do not have any stock with 0\n",
    "merged_df.head()"
   ]
  },
  {
   "cell_type": "markdown",
   "id": "a5be9174",
   "metadata": {},
   "source": [
    "Now to check if everything about our 'to be worked with' dataset is alright, we are going to check some columns in case during the merging any errors occured."
   ]
  },
  {
   "cell_type": "code",
   "execution_count": 847,
   "id": "54381671",
   "metadata": {},
   "outputs": [
    {
     "name": "stdout",
     "output_type": "stream",
     "text": [
      "<class 'pandas.core.frame.DataFrame'>\n",
      "RangeIndex: 2647 entries, 0 to 2646\n",
      "Data columns (total 7 columns):\n",
      " #   Column               Non-Null Count  Dtype         \n",
      "---  ------               --------------  -----         \n",
      " 0   SKU                  2647 non-null   int64         \n",
      " 1   Product Description  2647 non-null   object        \n",
      " 2   Product Group        2647 non-null   object        \n",
      " 3   Month                2647 non-null   datetime64[ns]\n",
      " 4   Quantity             2647 non-null   int64         \n",
      " 5   Revenue              2647 non-null   float64       \n",
      " 6   Current_Stock        2647 non-null   int64         \n",
      "dtypes: datetime64[ns](1), float64(1), int64(3), object(2)\n",
      "memory usage: 144.9+ KB\n"
     ]
    }
   ],
   "source": [
    "merged_df.info()"
   ]
  },
  {
   "cell_type": "code",
   "execution_count": 848,
   "id": "cbb27e64",
   "metadata": {},
   "outputs": [
    {
     "data": {
      "text/plain": [
       "np.int64(0)"
      ]
     },
     "execution_count": 848,
     "metadata": {},
     "output_type": "execute_result"
    }
   ],
   "source": [
    "merged_df['Current_Stock'].isna().sum()\n"
   ]
  },
  {
   "cell_type": "code",
   "execution_count": 849,
   "id": "205324af",
   "metadata": {},
   "outputs": [
    {
     "name": "stdout",
     "output_type": "stream",
     "text": [
      "Negative stock values: 0\n",
      "Max stock: 2339\n"
     ]
    }
   ],
   "source": [
    "print(\"Negative stock values:\", (merged_df['Current_Stock'] < 0).sum())\n",
    "print(\"Max stock:\", merged_df['Current_Stock'].max())"
   ]
  },
  {
   "cell_type": "code",
   "execution_count": 850,
   "id": "fba66267",
   "metadata": {},
   "outputs": [
    {
     "data": {
      "text/html": [
       "<div>\n",
       "<style scoped>\n",
       "    .dataframe tbody tr th:only-of-type {\n",
       "        vertical-align: middle;\n",
       "    }\n",
       "\n",
       "    .dataframe tbody tr th {\n",
       "        vertical-align: top;\n",
       "    }\n",
       "\n",
       "    .dataframe thead th {\n",
       "        text-align: right;\n",
       "    }\n",
       "</style>\n",
       "<table border=\"1\" class=\"dataframe\">\n",
       "  <thead>\n",
       "    <tr style=\"text-align: right;\">\n",
       "      <th></th>\n",
       "      <th>SKU</th>\n",
       "      <th>Product Description</th>\n",
       "      <th>Product Group</th>\n",
       "      <th>Month</th>\n",
       "      <th>Quantity</th>\n",
       "      <th>Revenue</th>\n",
       "      <th>Current_Stock</th>\n",
       "    </tr>\n",
       "  </thead>\n",
       "  <tbody>\n",
       "    <tr>\n",
       "      <th>0</th>\n",
       "      <td>31001010007</td>\n",
       "      <td>Stroller 3 in 1 Allure Lilac</td>\n",
       "      <td>100101: Kombinirani bebeshki kolichki 3 v 1</td>\n",
       "      <td>2024-12-01</td>\n",
       "      <td>2</td>\n",
       "      <td>623.88</td>\n",
       "      <td>0</td>\n",
       "    </tr>\n",
       "    <tr>\n",
       "      <th>29</th>\n",
       "      <td>31001010058</td>\n",
       "      <td>Stroller 3 in 1 Darling Green</td>\n",
       "      <td>100101: Kombinirani bebeshki kolichki 3 v 1</td>\n",
       "      <td>2023-01-01</td>\n",
       "      <td>1</td>\n",
       "      <td>237.50</td>\n",
       "      <td>0</td>\n",
       "    </tr>\n",
       "    <tr>\n",
       "      <th>49</th>\n",
       "      <td>31001010063</td>\n",
       "      <td>Stroller 3in1 with carrycot Ava Army Green</td>\n",
       "      <td>100101: Kombinirani bebeshki kolichki 3 v 1</td>\n",
       "      <td>2024-07-01</td>\n",
       "      <td>26</td>\n",
       "      <td>9511.35</td>\n",
       "      <td>0</td>\n",
       "    </tr>\n",
       "    <tr>\n",
       "      <th>50</th>\n",
       "      <td>31001010063</td>\n",
       "      <td>Stroller 3in1 with carrycot Ava Army Green</td>\n",
       "      <td>100101: Kombinirani bebeshki kolichki 3 v 1</td>\n",
       "      <td>2024-08-01</td>\n",
       "      <td>2</td>\n",
       "      <td>705.04</td>\n",
       "      <td>0</td>\n",
       "    </tr>\n",
       "    <tr>\n",
       "      <th>51</th>\n",
       "      <td>31001010063</td>\n",
       "      <td>Stroller 3in1 with carrycot Ava Army Green</td>\n",
       "      <td>100101: Kombinirani bebeshki kolichki 3 v 1</td>\n",
       "      <td>2024-11-01</td>\n",
       "      <td>26</td>\n",
       "      <td>9332.50</td>\n",
       "      <td>0</td>\n",
       "    </tr>\n",
       "    <tr>\n",
       "      <th>...</th>\n",
       "      <td>...</td>\n",
       "      <td>...</td>\n",
       "      <td>...</td>\n",
       "      <td>...</td>\n",
       "      <td>...</td>\n",
       "      <td>...</td>\n",
       "      <td>...</td>\n",
       "    </tr>\n",
       "    <tr>\n",
       "      <th>2608</th>\n",
       "      <td>31001060014</td>\n",
       "      <td>Isofix base for car seat Amani</td>\n",
       "      <td>100106: Adaptori za bebeshka kolichka</td>\n",
       "      <td>2023-02-01</td>\n",
       "      <td>2</td>\n",
       "      <td>350.89</td>\n",
       "      <td>0</td>\n",
       "    </tr>\n",
       "    <tr>\n",
       "      <th>2609</th>\n",
       "      <td>31001060014</td>\n",
       "      <td>Isofix base for car seat Amani</td>\n",
       "      <td>100106: Adaptori za bebeshka kolichka</td>\n",
       "      <td>2023-03-01</td>\n",
       "      <td>7</td>\n",
       "      <td>1148.17</td>\n",
       "      <td>0</td>\n",
       "    </tr>\n",
       "    <tr>\n",
       "      <th>2610</th>\n",
       "      <td>31001060014</td>\n",
       "      <td>Isofix base for car seat Amani</td>\n",
       "      <td>100106: Adaptori za bebeshka kolichka</td>\n",
       "      <td>2023-11-01</td>\n",
       "      <td>4</td>\n",
       "      <td>462.76</td>\n",
       "      <td>0</td>\n",
       "    </tr>\n",
       "    <tr>\n",
       "      <th>2611</th>\n",
       "      <td>31001060016</td>\n",
       "      <td>Adaptor for stroller Joy</td>\n",
       "      <td>100106: Adaptori za bebeshka kolichka</td>\n",
       "      <td>2024-11-01</td>\n",
       "      <td>570</td>\n",
       "      <td>0.00</td>\n",
       "      <td>0</td>\n",
       "    </tr>\n",
       "    <tr>\n",
       "      <th>2613</th>\n",
       "      <td>31001080028</td>\n",
       "      <td>Kolichka Air-x</td>\n",
       "      <td>100108: Cybex</td>\n",
       "      <td>2023-08-01</td>\n",
       "      <td>1</td>\n",
       "      <td>1326.00</td>\n",
       "      <td>0</td>\n",
       "    </tr>\n",
       "  </tbody>\n",
       "</table>\n",
       "<p>288 rows × 7 columns</p>\n",
       "</div>"
      ],
      "text/plain": [
       "              SKU                         Product Description  \\\n",
       "0     31001010007                Stroller 3 in 1 Allure Lilac   \n",
       "29    31001010058               Stroller 3 in 1 Darling Green   \n",
       "49    31001010063  Stroller 3in1 with carrycot Ava Army Green   \n",
       "50    31001010063  Stroller 3in1 with carrycot Ava Army Green   \n",
       "51    31001010063  Stroller 3in1 with carrycot Ava Army Green   \n",
       "...           ...                                         ...   \n",
       "2608  31001060014              Isofix base for car seat Amani   \n",
       "2609  31001060014              Isofix base for car seat Amani   \n",
       "2610  31001060014              Isofix base for car seat Amani   \n",
       "2611  31001060016                    Adaptor for stroller Joy   \n",
       "2613  31001080028                              Kolichka Air-x   \n",
       "\n",
       "                                    Product Group      Month  Quantity  \\\n",
       "0     100101: Kombinirani bebeshki kolichki 3 v 1 2024-12-01         2   \n",
       "29    100101: Kombinirani bebeshki kolichki 3 v 1 2023-01-01         1   \n",
       "49    100101: Kombinirani bebeshki kolichki 3 v 1 2024-07-01        26   \n",
       "50    100101: Kombinirani bebeshki kolichki 3 v 1 2024-08-01         2   \n",
       "51    100101: Kombinirani bebeshki kolichki 3 v 1 2024-11-01        26   \n",
       "...                                           ...        ...       ...   \n",
       "2608        100106: Adaptori za bebeshka kolichka 2023-02-01         2   \n",
       "2609        100106: Adaptori za bebeshka kolichka 2023-03-01         7   \n",
       "2610        100106: Adaptori za bebeshka kolichka 2023-11-01         4   \n",
       "2611        100106: Adaptori za bebeshka kolichka 2024-11-01       570   \n",
       "2613                                100108: Cybex 2023-08-01         1   \n",
       "\n",
       "      Revenue  Current_Stock  \n",
       "0      623.88              0  \n",
       "29     237.50              0  \n",
       "49    9511.35              0  \n",
       "50     705.04              0  \n",
       "51    9332.50              0  \n",
       "...       ...            ...  \n",
       "2608   350.89              0  \n",
       "2609  1148.17              0  \n",
       "2610   462.76              0  \n",
       "2611     0.00              0  \n",
       "2613  1326.00              0  \n",
       "\n",
       "[288 rows x 7 columns]"
      ]
     },
     "execution_count": 850,
     "metadata": {},
     "output_type": "execute_result"
    }
   ],
   "source": [
    "merged_df[merged_df['Current_Stock'] == 0].head(99999)"
   ]
  },
  {
   "cell_type": "markdown",
   "id": "7c2cc1ec",
   "metadata": {},
   "source": [
    "With those checks we can confirm that:\n",
    "- We verified that no NaN values appeared after the merge, confirming a clean match.\n",
    "- We also validated that there are no negative values, and the max stock quantity looked realistic (2339 units).\n",
    "- That out of 2647 rows there are 288 with 0 stock, which potentially are stopped products or products that have sold out quickly. We will analyze this moving forward with our visualizations."
   ]
  }
 ],
 "metadata": {
  "kernelspec": {
   "display_name": "Python 3",
   "language": "python",
   "name": "python3"
  },
  "language_info": {
   "codemirror_mode": {
    "name": "ipython",
    "version": 3
   },
   "file_extension": ".py",
   "mimetype": "text/x-python",
   "name": "python",
   "nbconvert_exporter": "python",
   "pygments_lexer": "ipython3",
   "version": "3.11.9"
  }
 },
 "nbformat": 4,
 "nbformat_minor": 5
}
